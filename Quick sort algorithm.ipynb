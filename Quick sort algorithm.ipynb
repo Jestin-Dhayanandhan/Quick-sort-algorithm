{
 "cells": [
  {
   "cell_type": "code",
   "execution_count": 1,
   "id": "a09a18cb-be29-4fe1-82fb-79cd28d400f6",
   "metadata": {},
   "outputs": [
    {
     "name": "stdout",
     "output_type": "stream",
     "text": [
      "[1, 2, 9, 10, 11, 15, 16]\n"
     ]
    }
   ],
   "source": [
    "#Quick sort algorithm\n",
    "array=[10,15,1,2,9,16,11]\n",
    "\n",
    "def quicksort(array):\n",
    "    if len(array)<=1:\n",
    "        return array\n",
    "    else:\n",
    "        pivot=array[0]\n",
    "        left=[i for i in array[1:] if i<=pivot]\n",
    "        right=[j for j in array[1:] if j>pivot]\n",
    "        \n",
    "    return quicksort(left)+[pivot]+quicksort(right)\n",
    "    \n",
    "print(quicksort(array))"
   ]
  },
  {
   "cell_type": "code",
   "execution_count": null,
   "id": "f5e3c147-4a6f-4c1e-8c5c-2d6f1f277cbf",
   "metadata": {},
   "outputs": [],
   "source": []
  }
 ],
 "metadata": {
  "kernelspec": {
   "display_name": "Python 3 (ipykernel)",
   "language": "python",
   "name": "python3"
  },
  "language_info": {
   "codemirror_mode": {
    "name": "ipython",
    "version": 3
   },
   "file_extension": ".py",
   "mimetype": "text/x-python",
   "name": "python",
   "nbconvert_exporter": "python",
   "pygments_lexer": "ipython3",
   "version": "3.10.5"
  }
 },
 "nbformat": 4,
 "nbformat_minor": 5
}
